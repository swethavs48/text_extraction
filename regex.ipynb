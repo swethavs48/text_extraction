{
 "cells": [
  {
   "cell_type": "code",
   "execution_count": 1,
   "id": "bd5bf47c",
   "metadata": {},
   "outputs": [],
   "source": [
    "import re"
   ]
  },
  {
   "cell_type": "code",
   "execution_count": 4,
   "id": "153f59d3",
   "metadata": {},
   "outputs": [],
   "source": [
    "text='''\n",
    "Paragraph 1:\n",
    "Lorem ipsum dolor sit amet, consectetur adipiscing elit. Nullam suscipit, neque quis condimentum tempus, lorem turpis eleifend tellus, vitae ultricies elit nulla in purus. Vivamus euismod metus quis diam ultricies, eu semper elit auctor. Proin id dui dui. Phasellus eget gravida purus. Sed fringilla ultrices elit, at bibendum sapien volutpat nec. Integer convallis, tortor vel aliquet porttitor, justo mauris convallis purus, non rhoncus metus nisi auctor tortor. Etiam eget nibh vel felis efficitur rhoncus. Curabitur condimentum mi et odio lacinia, ut rhoncus orci tristique. Fusce vitae fermentum odio. Nullam volutpat, metus quis ultricies fermentum, nisl neque convallis dui, ac consectetur quam arcu et dui.\n",
    "\n",
    "Email: lorem.ipsum@email.com\n",
    "Phone: (123) 456-7890\n",
    "\n",
    "Paragraph 2:\n",
    "Suspendisse euismod suscipit neque, nec faucibus orci rhoncus quis. Sed ullamcorper pharetra justo, at congue ipsum venenatis eget. In tristique tincidunt justo nec volutpat. Praesent bibendum odio nec bibendum fringilla. Vivamus dictum eget turpis vel auctor. Sed tincidunt nec justo quis vehicula. Ut posuere nec tortor eget pellentesque. Integer ultrices tristique ex, nec blandit metus laoreet eu.\n",
    "\n",
    "Email: sit.amet@email.com\n",
    "Phone: (987) 654-3210\n",
    "\n",
    "Paragraph 3:\n",
    "Donec aliquet neque eu bibendum fermentum. Nunc id fringilla turpis. Vivamus varius eleifend quam, eu posuere nunc venenatis eu. Nulla facilisi. Phasellus congue orci et dui hendrerit, ac luctus metus dignissim. Nunc pulvinar leo ut laoreet ultricies. Fusce commodo feugiat nisi, eu tristique nisi venenatis nec. Curabitur sit amet blandit justo. Pellentesque lacinia varius ante, vel mattis sapien auctor id. Fusce et consectetur mauris. Proin quis rhoncus elit, quis malesuada purus.\n",
    "\n",
    "Email: donec.aliquet@email.com\n",
    "Phone: (555) 123-9876\n",
    "\n",
    "Please remember that the above information is entirely fictional and generated for demonstration purposes only. Always be mindful of privacy and avoid sharing real personal information without proper consent. If you need more dummy paragraphs or any other assistance, feel free to ask!\n",
    "'''"
   ]
  },
  {
   "cell_type": "code",
   "execution_count": 7,
   "id": "69b9447b",
   "metadata": {},
   "outputs": [
    {
     "data": {
      "text/plain": [
       "['(123) 456-7890', '(987) 654-3210', '(555) 123-9876']"
      ]
     },
     "execution_count": 7,
     "metadata": {},
     "output_type": "execute_result"
    }
   ],
   "source": [
    "pattern='\\(\\d{3}\\) \\d{3}-\\d{4}'\n",
    "matches=re.findall(pattern,text)\n",
    "matches"
   ]
  },
  {
   "cell_type": "code",
   "execution_count": 19,
   "id": "47b41f7e",
   "metadata": {},
   "outputs": [
    {
     "data": {
      "text/plain": [
       "['lorem.ipsum@email.com', 'sit.amet@email.com', 'donec.aliquet@email.com']"
      ]
     },
     "execution_count": 19,
     "metadata": {},
     "output_type": "execute_result"
    }
   ],
   "source": [
    "pattern='[a-z\\.\\-]+[@][a-z]+\\.[a-z]{3}'\n",
    "matches=re.findall(pattern,text)\n",
    "matches"
   ]
  },
  {
   "cell_type": "code",
   "execution_count": 21,
   "id": "13726be5",
   "metadata": {},
   "outputs": [
    {
     "data": {
      "text/plain": [
       "['elit.',\n",
       " 'purus.',\n",
       " 'auctor.',\n",
       " 'dui.',\n",
       " 'purus.',\n",
       " 'nec.',\n",
       " 'tortor.',\n",
       " 'rhoncus.',\n",
       " 'tristique.',\n",
       " 'odio.',\n",
       " 'dui.',\n",
       " 'lorem.',\n",
       " 'email.',\n",
       " 'quis.',\n",
       " 'eget.',\n",
       " 'volutpat.',\n",
       " 'fringilla.',\n",
       " 'auctor.',\n",
       " 'vehicula.',\n",
       " 'pellentesque.',\n",
       " 'eu.',\n",
       " 'sit.',\n",
       " 'email.',\n",
       " 'fermentum.',\n",
       " 'turpis.',\n",
       " 'eu.',\n",
       " 'facilisi.',\n",
       " 'dignissim.',\n",
       " 'ultricies.',\n",
       " 'nec.',\n",
       " 'justo.',\n",
       " 'id.',\n",
       " 'mauris.',\n",
       " 'purus.',\n",
       " 'donec.',\n",
       " 'email.',\n",
       " 'only.',\n",
       " 'consent.']"
      ]
     },
     "execution_count": 21,
     "metadata": {},
     "output_type": "execute_result"
    }
   ],
   "source": [
    "pattern='[a-z]+\\.'\n",
    "matches=re.findall(pattern,text)\n",
    "matches"
   ]
  },
  {
   "cell_type": "code",
   "execution_count": null,
   "id": "0768c01a",
   "metadata": {},
   "outputs": [],
   "source": []
  }
 ],
 "metadata": {
  "kernelspec": {
   "display_name": "Python 3 (ipykernel)",
   "language": "python",
   "name": "python3"
  },
  "language_info": {
   "codemirror_mode": {
    "name": "ipython",
    "version": 3
   },
   "file_extension": ".py",
   "mimetype": "text/x-python",
   "name": "python",
   "nbconvert_exporter": "python",
   "pygments_lexer": "ipython3",
   "version": "3.11.1"
  }
 },
 "nbformat": 4,
 "nbformat_minor": 5
}
